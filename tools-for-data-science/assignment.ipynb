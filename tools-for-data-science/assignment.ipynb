{
 "cells": [
  {
   "cell_type": "markdown",
   "id": "ccb0bd00-9c6c-4bc1-8b2c-a7b7444e9c26",
   "metadata": {},
   "source": [
    "# Data Science Professional Certification"
   ]
  },
  {
   "cell_type": "markdown",
   "id": "b0303c03-196e-459e-b6fc-3b7018d13cfd",
   "metadata": {},
   "source": [
    "## Tools for Data Science Assignment"
   ]
  },
  {
   "cell_type": "markdown",
   "id": "c37d611a-ac7d-4555-b7d6-1d1c35f3f3a3",
   "metadata": {
    "tags": []
   },
   "source": [
    "### Introduction\n",
    "\n",
    "This is a final assignment for the module : \"Tools for Data Science\" relative at the IBM Data Science Professional Certification\n"
   ]
  },
  {
   "cell_type": "markdown",
   "id": "821b67a4-6f4d-4dbb-9eea-ea2135ddd582",
   "metadata": {},
   "source": [
    "### Data Science Languages\n",
    "\n",
    "The main languages that you can used in data science:\n",
    "\n",
    "- Python\n",
    "- R\n",
    "- SQL\n",
    "- Julia\n",
    "- Scala\n",
    "- Java\n",
    "- C/C++\n",
    "- JS"
   ]
  },
  {
   "cell_type": "markdown",
   "id": "247b850f-3cb7-4f66-acff-9d0660050e04",
   "metadata": {},
   "source": [
    "### Data Science Libraries\n",
    "\n",
    "The main languages that you can used in data science:\n",
    "\n",
    "- Numpy\n",
    "- Pandas\n",
    "- Seaborn\n",
    "- Scikit-learn\n",
    "- TensorFlow\n",
    "- Pytorch\n",
    "- Keras\n",
    "- Scipy\n",
    "- Matplotlib\n",
    "\n",
    "These are the main library that a data scientist uses, obviously there are other libraries that a data scientist might use but they depend on field in which the worker work"
   ]
  },
  {
   "cell_type": "markdown",
   "id": "6fa73193-670a-4f1a-ba4f-fa106def8c05",
   "metadata": {},
   "source": [
    "### Data Science Tools\n",
    "\n",
    "There are infinity tools that a data scientist might use. The main tools that I remember are:\n",
    "\n",
    "| Tools |\n",
    "| --- |\n",
    "| MongoDB |\n",
    "| MySQL |\n",
    "| Ceph |\n",
    "| PostgreSQL |\n",
    "| ElastichSearch |\n",
    "| Kibana |\n",
    "| TensorFlow |\n",
    "| Jupyter Notebook |\n",
    "| Git |\n",
    "| Spark |\n",
    "| Kafka |\n",
    "| Hadoop |\n",
    "| Tableau |\n",
    "| Kubernetes |\n",
    "| Rstudio |\n"
   ]
  },
  {
   "cell_type": "markdown",
   "id": "7d643da0-2062-440d-a632-e48e8b1c2ca4",
   "metadata": {},
   "source": [
    "### Arithmetic Expression Example\n",
    "\n",
    "This is an example of sigmoid function. \n",
    "$S(x) = \\frac{1}{1+e^{-x}}$"
   ]
  },
  {
   "cell_type": "markdown",
   "id": "e9474584-c076-4047-9aed-857b489de9a6",
   "metadata": {
    "tags": []
   },
   "source": [
    "### Multiply & add numbers"
   ]
  },
  {
   "cell_type": "code",
   "execution_count": 15,
   "id": "163472f5-14d6-46b2-b571-41888a657bae",
   "metadata": {
    "tags": []
   },
   "outputs": [
    {
     "data": {
      "text/plain": [
       "10"
      ]
     },
     "execution_count": 15,
     "metadata": {},
     "output_type": "execute_result"
    }
   ],
   "source": [
    "a, b, c = 0, 5, 10\n",
    "\n",
    "a * b + c"
   ]
  },
  {
   "cell_type": "markdown",
   "id": "a6b6109e-601d-44de-8cbb-cca3fe41ddd1",
   "metadata": {},
   "source": [
    "###  Convert minutes to hours\n"
   ]
  },
  {
   "cell_type": "code",
   "execution_count": 16,
   "id": "e43314a3-a4a2-4601-83a8-dcbe1dcca506",
   "metadata": {},
   "outputs": [
    {
     "name": "stdout",
     "output_type": "stream",
     "text": [
      "minutes: 56 hours 0.9333333333333333\n"
     ]
    }
   ],
   "source": [
    "from datetime import datetime\n",
    "\n",
    "minutes = datetime.now().minute\n",
    "\n",
    "print(f'minutes: {minutes} hours {minutes/60}')\n"
   ]
  },
  {
   "cell_type": "markdown",
   "id": "08b401a0-687c-4cf1-a474-ff1586e43b03",
   "metadata": {
    "jp-MarkdownHeadingCollapsed": true,
    "tags": []
   },
   "source": [
    "###  List Objectives\n",
    "\n",
    "My objectives \n",
    "\n",
    "- Understanding the fundamentals of data science\n",
    "- Learning to use my skills on the cloud\n",
    "- Developing skills in data cleaning, preparation, and transformation\n",
    "- Applying machine learning algorithms to solve problems\n",
    "- How to evaluate and improve machine learning models\n",
    "- Understanding the data science and machine learning."
   ]
  },
  {
   "cell_type": "markdown",
   "id": "93e6a814-4470-4308-8598-45d29b798142",
   "metadata": {},
   "source": [
    "# Author’s name\n",
    "This notebook was created by Daniele Bocchino, for the course of tools for data science.\n",
    "\n",
    "\n",
    "\n"
   ]
  }
 ],
 "metadata": {
  "kernelspec": {
   "display_name": "Python",
   "language": "python",
   "name": "conda-env-python-py"
  },
  "language_info": {
   "codemirror_mode": {
    "name": "ipython",
    "version": 3
   },
   "file_extension": ".py",
   "mimetype": "text/x-python",
   "name": "python",
   "nbconvert_exporter": "python",
   "pygments_lexer": "ipython3",
   "version": "3.7.12"
  }
 },
 "nbformat": 4,
 "nbformat_minor": 5
}
